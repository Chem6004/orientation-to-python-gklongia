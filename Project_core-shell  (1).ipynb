{
 "cells": [
  {
   "cell_type": "code",
   "execution_count": 2,
   "metadata": {},
   "outputs": [
    {
     "name": "stdout",
     "output_type": "stream",
     "text": [
      " Temperature not specified!\n",
      " Proceeding with default T = 300 K\n"
     ]
    },
    {
     "data": {
      "image/png": "[encoded data removed]",
      "text/plain": [
       "<Figure size 432x288 with 1 Axes>"
      ]
     },
     "metadata": {
      "needs_background": "light"
     },
     "output_type": "display_data"
    }
   ],
   "source": [
    "from wptherml.wpml import multilayer\n",
    "from matplotlib import pyplot as plt\n",
    "from wptherml.datalib import datalib\n",
    "import numpy as np\n",
    "import math\n",
    "\n",
    "\n",
    "structure = {\n",
    "\n",
    "        'Material_List': ['Air', 'Au', 'Ag', 'Air'],\n",
    "        'Thickness_List': [0, 200e-9,  200e-9, 0],\n",
    "        'Lambda_List': [200e-9, 800e-9, 2000],\n",
    "     \n",
    "        }\n",
    "\n",
    "### create the silver object - call it sphere for no particular reason\n",
    "sphere = multilayer(structure)\n",
    "\n",
    "### get the refractive index of Au (since it is layer 1 based on the structure above)\n",
    "n_Au = sphere.layer_ri(1)\n",
    "### get the dielectric function of Au- Core\n",
    "eps_1 = n_Au * n_Au\n",
    "#eps_1 = 1.55*1.55\n",
    "### get the refractive index of Ag (since it is layer 2 based on the structure above)\n",
    "n_Ag = sphere.layer_ri(2)\n",
    "### get the dielectric function of Ag- shell \n",
    "eps_2 = n_Ag * n_Ag\n",
    "'''Lets compute the Mie theory absorption of a 7 nm Au shell and 10 nm core-shell particle in water, which \n",
    "   has refractive index = 1.33, here!'''\n",
    "\n",
    "r1 = 7e-9 ### fill in radius here, use meters!\n",
    "### making r2 smaller... r2 is the total radius of the core-shell particle\n",
    "r2 = 10e-9 \n",
    "### eps_s =  1.33 ### fill in dielectric function of water here!\n",
    "P = 1 - (r1/r2)**3\n",
    "eps_3 = 1.33\n",
    "eps_a = eps_1*(3-P) + 2*eps_2*(P) \n",
    "eps_b = eps_1*(P) + eps_2*(3-P) \n",
    "quotient = (eps_2*eps_a - eps_3*eps_b)/(eps_3*eps_a + 2*eps_3*eps_b) ##e quotient whose Imaginary part you need from Mie theory expression here\n",
    "pre = 8*np.pi* (math.sqrt(eps_3)) * r2**2 / (sphere.lambda_array*1e9) ### compute pre-factor that depends on wavelength and radius here!\n",
    "sigma_abs = np.imag(quotient) * pre ### compute full absorption spectrum here!\n",
    " \n",
    "plt.plot(sphere.lambda_array*1e9, sigma_abs, 'red')\n",
    "plt.show()\n"
   ]
  },
  {
   "cell_type": "code",
   "execution_count": null,
   "metadata": {},
   "outputs": [],
   "source": []
  },
  {
   "cell_type": "code",
   "execution_count": null,
   "metadata": {},
   "outputs": [],
   "source": []
  },
  {
   "cell_type": "code",
   "execution_count": null,
   "metadata": {},
   "outputs": [],
   "source": []
  },
  {
   "cell_type": "code",
   "execution_count": null,
   "metadata": {},
   "outputs": [],
   "source": []
  },
  {
   "cell_type": "code",
   "execution_count": null,
   "metadata": {},
   "outputs": [],
   "source": []
  },
  {
   "cell_type": "code",
   "execution_count": null,
   "metadata": {},
   "outputs": [],
   "source": []
  },
  {
   "cell_type": "code",
   "execution_count": null,
   "metadata": {},
   "outputs": [],
   "source": []
  },
  {
   "cell_type": "code",
   "execution_count": null,
   "metadata": {},
   "outputs": [],
   "source": []
  }
 ],
 "metadata": {
  "kernelspec": {
   "display_name": "Python 3",
   "language": "python",
   "name": "python3"
  },
  "language_info": {
   "codemirror_mode": {
    "name": "ipython",
    "version": 3
   },
   "file_extension": ".py",
   "mimetype": "text/x-python",
   "name": "python",
   "nbconvert_exporter": "python",
   "pygments_lexer": "ipython3",
   "version": "3.7.1"
  }
 },
 "nbformat": 4,
 "nbformat_minor": 2
}
